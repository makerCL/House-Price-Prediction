{
 "cells": [
  {
   "cell_type": "code",
   "execution_count": 1,
   "id": "connected-infrared",
   "metadata": {
    "_cell_guid": "b1076dfc-b9ad-4769-8c92-a6c4dae69d19",
    "_uuid": "8f2839f25d086af736a60e9eeb907d3b93b6e0e5",
    "execution": {
     "iopub.execute_input": "2021-04-18T06:40:58.538411Z",
     "iopub.status.busy": "2021-04-18T06:40:58.537314Z",
     "iopub.status.idle": "2021-04-18T06:40:59.712997Z",
     "shell.execute_reply": "2021-04-18T06:40:59.712154Z"
    },
    "papermill": {
     "duration": 1.193804,
     "end_time": "2021-04-18T06:40:59.713157",
     "exception": false,
     "start_time": "2021-04-18T06:40:58.519353",
     "status": "completed"
    },
    "tags": []
   },
   "outputs": [
    {
     "name": "stdout",
     "output_type": "stream",
     "text": [
      "/kaggle/input/titanic/train.csv\n",
      "/kaggle/input/titanic/test.csv\n",
      "/kaggle/input/titanic/gender_submission.csv\n"
     ]
    }
   ],
   "source": [
    "# This Python 3 environment comes with many helpful analytics libraries installed\n",
    "# It is defined by the kaggle/python Docker image: https://github.com/kaggle/docker-python\n",
    "# For example, here's several helpful packages to load\n",
    "\n",
    "import numpy as np # linear algebra\n",
    "import pandas as pd # data processing, CSV file I/O (e.g. pd.read_csv)\n",
    "from sklearn.ensemble import RandomForestClassifier\n",
    "\n",
    "# Input data files are available in the read-only \"../input/\" directory\n",
    "# For example, running this (by clicking run or pressing Shift+Enter) will list all files under the input directory\n",
    "\n",
    "import os\n",
    "for dirname, _, filenames in os.walk('/kaggle/input'):\n",
    "    for filename in filenames:\n",
    "        print(os.path.join(dirname, filename))\n"
   ]
  },
  {
   "cell_type": "code",
   "execution_count": 2,
   "id": "dangerous-baptist",
   "metadata": {
    "execution": {
     "iopub.execute_input": "2021-04-18T06:40:59.746373Z",
     "iopub.status.busy": "2021-04-18T06:40:59.745690Z",
     "iopub.status.idle": "2021-04-18T06:40:59.787838Z",
     "shell.execute_reply": "2021-04-18T06:40:59.787204Z"
    },
    "papermill": {
     "duration": 0.060856,
     "end_time": "2021-04-18T06:40:59.788000",
     "exception": false,
     "start_time": "2021-04-18T06:40:59.727144",
     "status": "completed"
    },
    "tags": []
   },
   "outputs": [],
   "source": [
    "titanic_train = pd.read_csv(\"/kaggle/input/titanic/train.csv\", index_col='PassengerId')\n",
    "titanic_test = pd.read_csv(\"/kaggle/input/titanic/test.csv\", index_col = \"PassengerId\")\n",
    "\n",
    "train_results = titanic_train[\"Survived\"].copy()\n",
    "titanic_train.drop(\"Survived\", axis=1, inplace=True, errors=\"ignore\")\n",
    "titanic = pd.concat([titanic_train, titanic_test])\n",
    "traindex = titanic_train.index\n",
    "testdex = titanic_test.index"
   ]
  },
  {
   "cell_type": "code",
   "execution_count": 3,
   "id": "competitive-obligation",
   "metadata": {
    "execution": {
     "iopub.execute_input": "2021-04-18T06:40:59.822723Z",
     "iopub.status.busy": "2021-04-18T06:40:59.822178Z",
     "iopub.status.idle": "2021-04-18T06:40:59.828367Z",
     "shell.execute_reply": "2021-04-18T06:40:59.828900Z"
    },
    "papermill": {
     "duration": 0.02726,
     "end_time": "2021-04-18T06:40:59.829062",
     "exception": false,
     "start_time": "2021-04-18T06:40:59.801802",
     "status": "completed"
    },
    "tags": []
   },
   "outputs": [
    {
     "name": "stderr",
     "output_type": "stream",
     "text": [
      "/opt/conda/lib/python3.7/site-packages/pandas/core/indexing.py:1637: SettingWithCopyWarning: \n",
      "A value is trying to be set on a copy of a slice from a DataFrame\n",
      "\n",
      "See the caveats in the documentation: https://pandas.pydata.org/pandas-docs/stable/user_guide/indexing.html#returning-a-view-versus-a-copy\n",
      "  self._setitem_single_block(indexer, value, name)\n"
     ]
    }
   ],
   "source": [
    "#preliminary explorati  \n",
    "titanic[\"Gen\"] = np.ones((titanic.shape[0]))\n",
    "titanic.Gen.loc[titanic.Sex.isin(['female'])] = 0"
   ]
  },
  {
   "cell_type": "code",
   "execution_count": 4,
   "id": "ceramic-cooling",
   "metadata": {
    "execution": {
     "iopub.execute_input": "2021-04-18T06:40:59.859733Z",
     "iopub.status.busy": "2021-04-18T06:40:59.859187Z",
     "iopub.status.idle": "2021-04-18T06:40:59.866767Z",
     "shell.execute_reply": "2021-04-18T06:40:59.867251Z"
    },
    "papermill": {
     "duration": 0.024335,
     "end_time": "2021-04-18T06:40:59.867383",
     "exception": false,
     "start_time": "2021-04-18T06:40:59.843048",
     "status": "completed"
    },
    "tags": []
   },
   "outputs": [
    {
     "data": {
      "text/plain": [
       "PassengerId\n",
       "1    0\n",
       "2    1\n",
       "3    1\n",
       "4    1\n",
       "5    0\n",
       "Name: Survived, dtype: int64"
      ]
     },
     "execution_count": 4,
     "metadata": {},
     "output_type": "execute_result"
    }
   ],
   "source": [
    "train_results.head()"
   ]
  },
  {
   "cell_type": "code",
   "execution_count": 5,
   "id": "smart-motorcycle",
   "metadata": {
    "execution": {
     "iopub.execute_input": "2021-04-18T06:40:59.899373Z",
     "iopub.status.busy": "2021-04-18T06:40:59.898777Z",
     "iopub.status.idle": "2021-04-18T06:40:59.918327Z",
     "shell.execute_reply": "2021-04-18T06:40:59.918814Z"
    },
    "papermill": {
     "duration": 0.037151,
     "end_time": "2021-04-18T06:40:59.918977",
     "exception": false,
     "start_time": "2021-04-18T06:40:59.881826",
     "status": "completed"
    },
    "tags": []
   },
   "outputs": [
    {
     "data": {
      "text/html": [
       "<div>\n",
       "<style scoped>\n",
       "    .dataframe tbody tr th:only-of-type {\n",
       "        vertical-align: middle;\n",
       "    }\n",
       "\n",
       "    .dataframe tbody tr th {\n",
       "        vertical-align: top;\n",
       "    }\n",
       "\n",
       "    .dataframe thead th {\n",
       "        text-align: right;\n",
       "    }\n",
       "</style>\n",
       "<table border=\"1\" class=\"dataframe\">\n",
       "  <thead>\n",
       "    <tr style=\"text-align: right;\">\n",
       "      <th></th>\n",
       "      <th>Pclass</th>\n",
       "      <th>Name</th>\n",
       "      <th>Sex</th>\n",
       "      <th>Age</th>\n",
       "      <th>SibSp</th>\n",
       "      <th>Parch</th>\n",
       "      <th>Ticket</th>\n",
       "      <th>Fare</th>\n",
       "      <th>Cabin</th>\n",
       "      <th>Embarked</th>\n",
       "      <th>Gen</th>\n",
       "    </tr>\n",
       "    <tr>\n",
       "      <th>PassengerId</th>\n",
       "      <th></th>\n",
       "      <th></th>\n",
       "      <th></th>\n",
       "      <th></th>\n",
       "      <th></th>\n",
       "      <th></th>\n",
       "      <th></th>\n",
       "      <th></th>\n",
       "      <th></th>\n",
       "      <th></th>\n",
       "      <th></th>\n",
       "    </tr>\n",
       "  </thead>\n",
       "  <tbody>\n",
       "    <tr>\n",
       "      <th>1</th>\n",
       "      <td>3</td>\n",
       "      <td>Braund, Mr. Owen Harris</td>\n",
       "      <td>male</td>\n",
       "      <td>22.0</td>\n",
       "      <td>1</td>\n",
       "      <td>0</td>\n",
       "      <td>A/5 21171</td>\n",
       "      <td>7.2500</td>\n",
       "      <td>NaN</td>\n",
       "      <td>S</td>\n",
       "      <td>1.0</td>\n",
       "    </tr>\n",
       "    <tr>\n",
       "      <th>2</th>\n",
       "      <td>1</td>\n",
       "      <td>Cumings, Mrs. John Bradley (Florence Briggs Th...</td>\n",
       "      <td>female</td>\n",
       "      <td>38.0</td>\n",
       "      <td>1</td>\n",
       "      <td>0</td>\n",
       "      <td>PC 17599</td>\n",
       "      <td>71.2833</td>\n",
       "      <td>C85</td>\n",
       "      <td>C</td>\n",
       "      <td>0.0</td>\n",
       "    </tr>\n",
       "    <tr>\n",
       "      <th>3</th>\n",
       "      <td>3</td>\n",
       "      <td>Heikkinen, Miss. Laina</td>\n",
       "      <td>female</td>\n",
       "      <td>26.0</td>\n",
       "      <td>0</td>\n",
       "      <td>0</td>\n",
       "      <td>STON/O2. 3101282</td>\n",
       "      <td>7.9250</td>\n",
       "      <td>NaN</td>\n",
       "      <td>S</td>\n",
       "      <td>0.0</td>\n",
       "    </tr>\n",
       "    <tr>\n",
       "      <th>4</th>\n",
       "      <td>1</td>\n",
       "      <td>Futrelle, Mrs. Jacques Heath (Lily May Peel)</td>\n",
       "      <td>female</td>\n",
       "      <td>35.0</td>\n",
       "      <td>1</td>\n",
       "      <td>0</td>\n",
       "      <td>113803</td>\n",
       "      <td>53.1000</td>\n",
       "      <td>C123</td>\n",
       "      <td>S</td>\n",
       "      <td>0.0</td>\n",
       "    </tr>\n",
       "    <tr>\n",
       "      <th>5</th>\n",
       "      <td>3</td>\n",
       "      <td>Allen, Mr. William Henry</td>\n",
       "      <td>male</td>\n",
       "      <td>35.0</td>\n",
       "      <td>0</td>\n",
       "      <td>0</td>\n",
       "      <td>373450</td>\n",
       "      <td>8.0500</td>\n",
       "      <td>NaN</td>\n",
       "      <td>S</td>\n",
       "      <td>1.0</td>\n",
       "    </tr>\n",
       "  </tbody>\n",
       "</table>\n",
       "</div>"
      ],
      "text/plain": [
       "             Pclass                                               Name  \\\n",
       "PassengerId                                                              \n",
       "1                 3                            Braund, Mr. Owen Harris   \n",
       "2                 1  Cumings, Mrs. John Bradley (Florence Briggs Th...   \n",
       "3                 3                             Heikkinen, Miss. Laina   \n",
       "4                 1       Futrelle, Mrs. Jacques Heath (Lily May Peel)   \n",
       "5                 3                           Allen, Mr. William Henry   \n",
       "\n",
       "                Sex   Age  SibSp  Parch            Ticket     Fare Cabin  \\\n",
       "PassengerId                                                                \n",
       "1              male  22.0      1      0         A/5 21171   7.2500   NaN   \n",
       "2            female  38.0      1      0          PC 17599  71.2833   C85   \n",
       "3            female  26.0      0      0  STON/O2. 3101282   7.9250   NaN   \n",
       "4            female  35.0      1      0            113803  53.1000  C123   \n",
       "5              male  35.0      0      0            373450   8.0500   NaN   \n",
       "\n",
       "            Embarked  Gen  \n",
       "PassengerId                \n",
       "1                  S  1.0  \n",
       "2                  C  0.0  \n",
       "3                  S  0.0  \n",
       "4                  S  0.0  \n",
       "5                  S  1.0  "
      ]
     },
     "execution_count": 5,
     "metadata": {},
     "output_type": "execute_result"
    }
   ],
   "source": [
    "titanic.head()"
   ]
  },
  {
   "cell_type": "code",
   "execution_count": 6,
   "id": "quantitative-priest",
   "metadata": {
    "execution": {
     "iopub.execute_input": "2021-04-18T06:40:59.959148Z",
     "iopub.status.busy": "2021-04-18T06:40:59.956196Z",
     "iopub.status.idle": "2021-04-18T06:40:59.971047Z",
     "shell.execute_reply": "2021-04-18T06:40:59.970402Z"
    },
    "papermill": {
     "duration": 0.037669,
     "end_time": "2021-04-18T06:40:59.971178",
     "exception": false,
     "start_time": "2021-04-18T06:40:59.933509",
     "status": "completed"
    },
    "tags": []
   },
   "outputs": [],
   "source": [
    "#Cabin Filling\n",
    "cabin_only = titanic[[\"Cabin\"]].copy()\n",
    "cabin_only[\"Cabin_Data\"] = cabin_only[\"Cabin\"].isnull().apply(lambda x: not x) #find cabins with data\n",
    "\n",
    "cabin_only[\"Deck\"] = cabin_only[\"Cabin\"].str.slice(0,1)\n",
    "cabin_only[\"Room\"] = cabin_only[\"Cabin\"].str.slice(1,5).str.extract((\"([0-9]+)\"), expand = False).astype(float)\n",
    "cabin_only[cabin_only[\"Cabin_Data\"]]\n",
    "\n",
    "cabin_only.drop([\"Cabin\",\"Cabin_data\"], axis = 1, inplace = True, errors=\"ignore\")\n",
    "cabin_only[\"Deck\"] = cabin_only[\"Deck\"].fillna(\"N\")\n",
    "cabin_only[\"Room\"] = cabin_only[\"Room\"].fillna(cabin_only[\"Room\"].mean())"
   ]
  },
  {
   "cell_type": "code",
   "execution_count": 7,
   "id": "nasty-brazil",
   "metadata": {
    "execution": {
     "iopub.execute_input": "2021-04-18T06:41:00.015666Z",
     "iopub.status.busy": "2021-04-18T06:41:00.014738Z",
     "iopub.status.idle": "2021-04-18T06:41:00.022790Z",
     "shell.execute_reply": "2021-04-18T06:41:00.022289Z"
    },
    "papermill": {
     "duration": 0.034878,
     "end_time": "2021-04-18T06:41:00.022922",
     "exception": false,
     "start_time": "2021-04-18T06:40:59.988044",
     "status": "completed"
    },
    "tags": []
   },
   "outputs": [],
   "source": [
    "#ONE HOT ENCODING OF CABIN DATA\n",
    "def one_hot_col(df, label, drop_col=False):\n",
    "    '''\n",
    "    This function will one hot encode the chosen column.\n",
    "    Args:\n",
    "        df: Pandas dataframe\n",
    "        label: Label of the column to encode\n",
    "        drop_col: boolean to decide if the chosen column should be dropped\n",
    "    Returns:\n",
    "        pandas dataframe with the given encoding\n",
    "    '''\n",
    "    one_hot = pd.get_dummies(df[label],prefix=label) #retreive dummy vars\n",
    "    if drop_col: #drop column if desired\n",
    "        df=df.drop(label,axis=1) \n",
    "    df = df.join(one_hot) #join the dummy variables to datafram\n",
    "    return df\n",
    "\n",
    "def one_hot(df, labels, drop_col=False):\n",
    "    '''\n",
    "    This function will one hot encode a list of columns.\n",
    "    Args:\n",
    "        df: Pandas dataframe\n",
    "        labels: list of the columns to encode\n",
    "        drop_col: boolean to decide if the chosen column should be dropped\n",
    "    Returns:\n",
    "        pandas dataframe with the given encoding\n",
    "    '''\n",
    "    for label in labels:\n",
    "        df = one_hot_col(df, label, drop_col)\n",
    "    return df\n",
    "\n",
    "cabin_only = one_hot(cabin_only, [\"Deck\"], drop_col = True)\n"
   ]
  },
  {
   "cell_type": "code",
   "execution_count": 8,
   "id": "insured-remove",
   "metadata": {
    "execution": {
     "iopub.execute_input": "2021-04-18T06:41:00.065687Z",
     "iopub.status.busy": "2021-04-18T06:41:00.065082Z",
     "iopub.status.idle": "2021-04-18T06:41:00.067817Z",
     "shell.execute_reply": "2021-04-18T06:41:00.068276Z"
    },
    "papermill": {
     "duration": 0.030469,
     "end_time": "2021-04-18T06:41:00.068429",
     "exception": false,
     "start_time": "2021-04-18T06:41:00.037960",
     "status": "completed"
    },
    "tags": []
   },
   "outputs": [
    {
     "data": {
      "text/html": [
       "<div>\n",
       "<style scoped>\n",
       "    .dataframe tbody tr th:only-of-type {\n",
       "        vertical-align: middle;\n",
       "    }\n",
       "\n",
       "    .dataframe tbody tr th {\n",
       "        vertical-align: top;\n",
       "    }\n",
       "\n",
       "    .dataframe thead th {\n",
       "        text-align: right;\n",
       "    }\n",
       "</style>\n",
       "<table border=\"1\" class=\"dataframe\">\n",
       "  <thead>\n",
       "    <tr style=\"text-align: right;\">\n",
       "      <th></th>\n",
       "      <th>Cabin_Data</th>\n",
       "      <th>Room</th>\n",
       "      <th>Deck_A</th>\n",
       "      <th>Deck_B</th>\n",
       "      <th>Deck_C</th>\n",
       "      <th>Deck_D</th>\n",
       "      <th>Deck_E</th>\n",
       "      <th>Deck_F</th>\n",
       "      <th>Deck_G</th>\n",
       "      <th>Deck_N</th>\n",
       "      <th>Deck_T</th>\n",
       "    </tr>\n",
       "    <tr>\n",
       "      <th>PassengerId</th>\n",
       "      <th></th>\n",
       "      <th></th>\n",
       "      <th></th>\n",
       "      <th></th>\n",
       "      <th></th>\n",
       "      <th></th>\n",
       "      <th></th>\n",
       "      <th></th>\n",
       "      <th></th>\n",
       "      <th></th>\n",
       "      <th></th>\n",
       "    </tr>\n",
       "  </thead>\n",
       "  <tbody>\n",
       "    <tr>\n",
       "      <th>1</th>\n",
       "      <td>False</td>\n",
       "      <td>49.615917</td>\n",
       "      <td>0</td>\n",
       "      <td>0</td>\n",
       "      <td>0</td>\n",
       "      <td>0</td>\n",
       "      <td>0</td>\n",
       "      <td>0</td>\n",
       "      <td>0</td>\n",
       "      <td>1</td>\n",
       "      <td>0</td>\n",
       "    </tr>\n",
       "    <tr>\n",
       "      <th>2</th>\n",
       "      <td>True</td>\n",
       "      <td>85.000000</td>\n",
       "      <td>0</td>\n",
       "      <td>0</td>\n",
       "      <td>1</td>\n",
       "      <td>0</td>\n",
       "      <td>0</td>\n",
       "      <td>0</td>\n",
       "      <td>0</td>\n",
       "      <td>0</td>\n",
       "      <td>0</td>\n",
       "    </tr>\n",
       "    <tr>\n",
       "      <th>3</th>\n",
       "      <td>False</td>\n",
       "      <td>49.615917</td>\n",
       "      <td>0</td>\n",
       "      <td>0</td>\n",
       "      <td>0</td>\n",
       "      <td>0</td>\n",
       "      <td>0</td>\n",
       "      <td>0</td>\n",
       "      <td>0</td>\n",
       "      <td>1</td>\n",
       "      <td>0</td>\n",
       "    </tr>\n",
       "    <tr>\n",
       "      <th>4</th>\n",
       "      <td>True</td>\n",
       "      <td>123.000000</td>\n",
       "      <td>0</td>\n",
       "      <td>0</td>\n",
       "      <td>1</td>\n",
       "      <td>0</td>\n",
       "      <td>0</td>\n",
       "      <td>0</td>\n",
       "      <td>0</td>\n",
       "      <td>0</td>\n",
       "      <td>0</td>\n",
       "    </tr>\n",
       "    <tr>\n",
       "      <th>5</th>\n",
       "      <td>False</td>\n",
       "      <td>49.615917</td>\n",
       "      <td>0</td>\n",
       "      <td>0</td>\n",
       "      <td>0</td>\n",
       "      <td>0</td>\n",
       "      <td>0</td>\n",
       "      <td>0</td>\n",
       "      <td>0</td>\n",
       "      <td>1</td>\n",
       "      <td>0</td>\n",
       "    </tr>\n",
       "  </tbody>\n",
       "</table>\n",
       "</div>"
      ],
      "text/plain": [
       "             Cabin_Data        Room  Deck_A  Deck_B  Deck_C  Deck_D  Deck_E  \\\n",
       "PassengerId                                                                   \n",
       "1                 False   49.615917       0       0       0       0       0   \n",
       "2                  True   85.000000       0       0       1       0       0   \n",
       "3                 False   49.615917       0       0       0       0       0   \n",
       "4                  True  123.000000       0       0       1       0       0   \n",
       "5                 False   49.615917       0       0       0       0       0   \n",
       "\n",
       "             Deck_F  Deck_G  Deck_N  Deck_T  \n",
       "PassengerId                                  \n",
       "1                 0       0       1       0  \n",
       "2                 0       0       0       0  \n",
       "3                 0       0       1       0  \n",
       "4                 0       0       0       0  \n",
       "5                 0       0       1       0  "
      ]
     },
     "execution_count": 8,
     "metadata": {},
     "output_type": "execute_result"
    }
   ],
   "source": [
    "cabin_only.head()"
   ]
  },
  {
   "cell_type": "code",
   "execution_count": 9,
   "id": "conscious-effectiveness",
   "metadata": {
    "execution": {
     "iopub.execute_input": "2021-04-18T06:41:00.102557Z",
     "iopub.status.busy": "2021-04-18T06:41:00.101963Z",
     "iopub.status.idle": "2021-04-18T06:41:00.113743Z",
     "shell.execute_reply": "2021-04-18T06:41:00.114250Z"
    },
    "papermill": {
     "duration": 0.030305,
     "end_time": "2021-04-18T06:41:00.114417",
     "exception": false,
     "start_time": "2021-04-18T06:41:00.084112",
     "status": "completed"
    },
    "tags": []
   },
   "outputs": [],
   "source": [
    "#Explore relationship between vars\n",
    "for column in cabin_only.columns.values[1:]: #append the dummy vars\n",
    "    titanic[column] = cabin_only[column]\n",
    "titanic[column] = titanic.drop(['Ticket','Cabin'], axis = 1, inplace = True)\n",
    "corr = titanic.corr()"
   ]
  },
  {
   "cell_type": "code",
   "execution_count": 10,
   "id": "miniature-sight",
   "metadata": {
    "execution": {
     "iopub.execute_input": "2021-04-18T06:41:00.149223Z",
     "iopub.status.busy": "2021-04-18T06:41:00.148669Z",
     "iopub.status.idle": "2021-04-18T06:41:00.154370Z",
     "shell.execute_reply": "2021-04-18T06:41:00.154839Z"
    },
    "papermill": {
     "duration": 0.024782,
     "end_time": "2021-04-18T06:41:00.155030",
     "exception": false,
     "start_time": "2021-04-18T06:41:00.130248",
     "status": "completed"
    },
    "tags": []
   },
   "outputs": [
    {
     "data": {
      "text/plain": [
       "Pclass    1.000000\n",
       "Age      -0.408106\n",
       "SibSp     0.060832\n",
       "Parch     0.018322\n",
       "Fare     -0.558629\n",
       "Gen       0.124617\n",
       "Room     -0.018452\n",
       "Deck_A   -0.202143\n",
       "Deck_B   -0.353414\n",
       "Deck_C   -0.430044\n",
       "Deck_D   -0.265341\n",
       "Deck_E   -0.225649\n",
       "Deck_F    0.013122\n",
       "Deck_G    0.052133\n",
       "Deck_N    0.713857\n",
       "Name: Pclass, dtype: float64"
      ]
     },
     "execution_count": 10,
     "metadata": {},
     "output_type": "execute_result"
    }
   ],
   "source": [
    "corr[\"Pclass\"]"
   ]
  },
  {
   "cell_type": "code",
   "execution_count": 11,
   "id": "comfortable-tablet",
   "metadata": {
    "execution": {
     "iopub.execute_input": "2021-04-18T06:41:00.189988Z",
     "iopub.status.busy": "2021-04-18T06:41:00.189440Z",
     "iopub.status.idle": "2021-04-18T06:41:00.195682Z",
     "shell.execute_reply": "2021-04-18T06:41:00.196147Z"
    },
    "papermill": {
     "duration": 0.025482,
     "end_time": "2021-04-18T06:41:00.196307",
     "exception": false,
     "start_time": "2021-04-18T06:41:00.170825",
     "status": "completed"
    },
    "tags": []
   },
   "outputs": [
    {
     "data": {
      "text/plain": [
       "Fare      1.000000\n",
       "Deck_C    0.401382\n",
       "Deck_B    0.393751\n",
       "Parch     0.221539\n",
       "Age       0.178740\n",
       "SibSp     0.160238\n",
       "Room      0.077825\n",
       "Deck_E    0.073950\n",
       "Deck_D    0.072738\n",
       "Deck_A    0.020095\n",
       "Deck_G   -0.022857\n",
       "Deck_F   -0.037567\n",
       "Gen      -0.185523\n",
       "Deck_N   -0.507253\n",
       "Pclass   -0.558629\n",
       "Name: Fare, dtype: float64"
      ]
     },
     "execution_count": 11,
     "metadata": {},
     "output_type": "execute_result"
    }
   ],
   "source": [
    "corr[\"Fare\"].sort_values(ascending=False)"
   ]
  },
  {
   "cell_type": "code",
   "execution_count": 12,
   "id": "fitted-dynamics",
   "metadata": {
    "execution": {
     "iopub.execute_input": "2021-04-18T06:41:00.231880Z",
     "iopub.status.busy": "2021-04-18T06:41:00.231373Z",
     "iopub.status.idle": "2021-04-18T06:41:00.235514Z",
     "shell.execute_reply": "2021-04-18T06:41:00.235984Z"
    },
    "papermill": {
     "duration": 0.023403,
     "end_time": "2021-04-18T06:41:00.236150",
     "exception": false,
     "start_time": "2021-04-18T06:41:00.212747",
     "status": "completed"
    },
    "tags": []
   },
   "outputs": [],
   "source": [
    "from sklearn.ensemble import RandomForestClassifier\n",
    "from sklearn.model_selection import RandomizedSearchCV\n",
    "from sklearn import metrics\n",
    "from sklearn.model_selection import cross_val_score\n",
    "import scipy.stats as st"
   ]
  },
  {
   "cell_type": "code",
   "execution_count": 13,
   "id": "fancy-ghana",
   "metadata": {
    "execution": {
     "iopub.execute_input": "2021-04-18T06:41:00.271501Z",
     "iopub.status.busy": "2021-04-18T06:41:00.270955Z",
     "iopub.status.idle": "2021-04-18T06:41:00.280440Z",
     "shell.execute_reply": "2021-04-18T06:41:00.280002Z"
    },
    "papermill": {
     "duration": 0.028325,
     "end_time": "2021-04-18T06:41:00.280572",
     "exception": false,
     "start_time": "2021-04-18T06:41:00.252247",
     "status": "completed"
    },
    "tags": []
   },
   "outputs": [],
   "source": [
    "#append other variables\n",
    "more_vars = cabin_only.join(titanic.Gen).join(titanic.SibSp).join(titanic.Parch).join(titanic.Pclass)"
   ]
  },
  {
   "cell_type": "code",
   "execution_count": 14,
   "id": "superb-strip",
   "metadata": {
    "execution": {
     "iopub.execute_input": "2021-04-18T06:41:00.320157Z",
     "iopub.status.busy": "2021-04-18T06:41:00.319399Z",
     "iopub.status.idle": "2021-04-18T06:41:00.335248Z",
     "shell.execute_reply": "2021-04-18T06:41:00.334241Z"
    },
    "papermill": {
     "duration": 0.037817,
     "end_time": "2021-04-18T06:41:00.335485",
     "exception": false,
     "start_time": "2021-04-18T06:41:00.297668",
     "status": "completed"
    },
    "tags": []
   },
   "outputs": [
    {
     "name": "stdout",
     "output_type": "stream",
     "text": [
      "             Cabin_Data        Room  Deck_A  Deck_B  Deck_C  Deck_D  Deck_E  \\\n",
      "PassengerId                                                                   \n",
      "1                 False   49.615917       0       0       0       0       0   \n",
      "2                  True   85.000000       0       0       1       0       0   \n",
      "3                 False   49.615917       0       0       0       0       0   \n",
      "4                  True  123.000000       0       0       1       0       0   \n",
      "5                 False   49.615917       0       0       0       0       0   \n",
      "...                 ...         ...     ...     ...     ...     ...     ...   \n",
      "887               False   49.615917       0       0       0       0       0   \n",
      "888                True   42.000000       0       1       0       0       0   \n",
      "889               False   49.615917       0       0       0       0       0   \n",
      "890                True  148.000000       0       0       1       0       0   \n",
      "891               False   49.615917       0       0       0       0       0   \n",
      "\n",
      "             Deck_F  Deck_G  Deck_N  Deck_T  Gen  SibSp  Parch  Pclass  \n",
      "PassengerId                                                             \n",
      "1                 0       0       1       0  1.0      1      0       3  \n",
      "2                 0       0       0       0  0.0      1      0       1  \n",
      "3                 0       0       1       0  0.0      0      0       3  \n",
      "4                 0       0       0       0  0.0      1      0       1  \n",
      "5                 0       0       1       0  1.0      0      0       3  \n",
      "...             ...     ...     ...     ...  ...    ...    ...     ...  \n",
      "887               0       0       1       0  1.0      0      0       2  \n",
      "888               0       0       0       0  0.0      0      0       1  \n",
      "889               0       0       1       0  0.0      1      2       3  \n",
      "890               0       0       0       0  1.0      0      0       1  \n",
      "891               0       0       1       0  1.0      0      0       3  \n",
      "\n",
      "[891 rows x 15 columns]\n"
     ]
    }
   ],
   "source": [
    "# Train\n",
    "train_df = more_vars.loc[traindex, :]\n",
    "print(train_df)\n",
    "train_df['Survived'] = train_results\n",
    "\n",
    "\n",
    "#features = ['Pclass','Sex','SibSp','Parch'] #did not include Cabin, which is mostly NaN\n",
    "X = train_df.drop(\"Survived\",axis=1).copy()\n",
    "X_test = more_vars.loc[testdex, :]\n",
    "\n",
    "y = train_df['Survived']"
   ]
  },
  {
   "cell_type": "code",
   "execution_count": null,
   "id": "minor-yorkshire",
   "metadata": {
    "papermill": {
     "duration": 0.017782,
     "end_time": "2021-04-18T06:41:00.372822",
     "exception": false,
     "start_time": "2021-04-18T06:41:00.355040",
     "status": "completed"
    },
    "tags": []
   },
   "outputs": [],
   "source": []
  },
  {
   "cell_type": "code",
   "execution_count": 15,
   "id": "returning-saver",
   "metadata": {
    "execution": {
     "iopub.execute_input": "2021-04-18T06:41:00.410555Z",
     "iopub.status.busy": "2021-04-18T06:41:00.409984Z",
     "iopub.status.idle": "2021-04-18T06:41:00.629622Z",
     "shell.execute_reply": "2021-04-18T06:41:00.630053Z"
    },
    "papermill": {
     "duration": 0.240241,
     "end_time": "2021-04-18T06:41:00.630212",
     "exception": false,
     "start_time": "2021-04-18T06:41:00.389971",
     "status": "completed"
    },
    "tags": []
   },
   "outputs": [
    {
     "data": {
      "text/plain": [
       "\"\\nrfc = RandomForestClassifier()\\n\\nparam_grid ={'max_depth': st.randint(6, 11),\\n             'n_estimators':st.randint(300, 500),\\n             'max_features':np.arange(0.5,.81, 0.05),\\n            'max_leaf_nodes':st.randint(6, 10)}\\n\\ngrid = RandomizedSearchCV(rfc,\\n                    param_grid, cv=10,\\n                    scoring='accuracy',\\n                    verbose=1,n_iter=20)\\n\\ngrid.fit(X, y)\""
      ]
     },
     "execution_count": 15,
     "metadata": {},
     "output_type": "execute_result"
    }
   ],
   "source": [
    "\n",
    "for_model = RandomForestClassifier(random_state=1)\n",
    "\n",
    "for_model.fit(X,y)\n",
    "\n",
    "predictions = for_model.predict(X_test)\n",
    "'''\n",
    "rfc = RandomForestClassifier()\n",
    "\n",
    "param_grid ={'max_depth': st.randint(6, 11),\n",
    "             'n_estimators':st.randint(300, 500),\n",
    "             'max_features':np.arange(0.5,.81, 0.05),\n",
    "            'max_leaf_nodes':st.randint(6, 10)}\n",
    "\n",
    "grid = RandomizedSearchCV(rfc,\n",
    "                    param_grid, cv=10,\n",
    "                    scoring='accuracy',\n",
    "                    verbose=1,n_iter=20)\n",
    "\n",
    "grid.fit(X, y)'''"
   ]
  },
  {
   "cell_type": "code",
   "execution_count": 16,
   "id": "wrapped-nation",
   "metadata": {
    "execution": {
     "iopub.execute_input": "2021-04-18T06:41:00.668901Z",
     "iopub.status.busy": "2021-04-18T06:41:00.668351Z",
     "iopub.status.idle": "2021-04-18T06:41:00.671128Z",
     "shell.execute_reply": "2021-04-18T06:41:00.671566Z"
    },
    "papermill": {
     "duration": 0.023614,
     "end_time": "2021-04-18T06:41:00.671728",
     "exception": false,
     "start_time": "2021-04-18T06:41:00.648114",
     "status": "completed"
    },
    "tags": []
   },
   "outputs": [],
   "source": [
    "#grid.best_estimator\n",
    "#grid.best_score_\n",
    "#predictions = grid.best_estimator_.predict(test_df)"
   ]
  },
  {
   "cell_type": "code",
   "execution_count": 17,
   "id": "extended-cinema",
   "metadata": {
    "execution": {
     "iopub.execute_input": "2021-04-18T06:41:00.711787Z",
     "iopub.status.busy": "2021-04-18T06:41:00.711203Z",
     "iopub.status.idle": "2021-04-18T06:41:00.714246Z",
     "shell.execute_reply": "2021-04-18T06:41:00.714710Z"
    },
    "papermill": {
     "duration": 0.024813,
     "end_time": "2021-04-18T06:41:00.714883",
     "exception": false,
     "start_time": "2021-04-18T06:41:00.690070",
     "status": "completed"
    },
    "tags": []
   },
   "outputs": [],
   "source": [
    "#results_df = pd.DataFrame()\n",
    "#results_df[\"PassngerId\"] = test_df.index\n",
    "#results_df[\"Predictions\"] = predictions"
   ]
  },
  {
   "cell_type": "code",
   "execution_count": 18,
   "id": "adapted-helena",
   "metadata": {
    "execution": {
     "iopub.execute_input": "2021-04-18T06:41:00.754993Z",
     "iopub.status.busy": "2021-04-18T06:41:00.754381Z",
     "iopub.status.idle": "2021-04-18T06:41:00.758473Z",
     "shell.execute_reply": "2021-04-18T06:41:00.758039Z"
    },
    "papermill": {
     "duration": 0.025356,
     "end_time": "2021-04-18T06:41:00.758591",
     "exception": false,
     "start_time": "2021-04-18T06:41:00.733235",
     "status": "completed"
    },
    "tags": []
   },
   "outputs": [],
   "source": [
    "#results_df.to_csv(\"Predictions\", index=False)"
   ]
  },
  {
   "cell_type": "code",
   "execution_count": 19,
   "id": "loving-agreement",
   "metadata": {
    "execution": {
     "iopub.execute_input": "2021-04-18T06:41:00.802507Z",
     "iopub.status.busy": "2021-04-18T06:41:00.801823Z",
     "iopub.status.idle": "2021-04-18T06:41:00.810307Z",
     "shell.execute_reply": "2021-04-18T06:41:00.809792Z"
    },
    "papermill": {
     "duration": 0.033024,
     "end_time": "2021-04-18T06:41:00.810470",
     "exception": false,
     "start_time": "2021-04-18T06:41:00.777446",
     "status": "completed"
    },
    "tags": []
   },
   "outputs": [
    {
     "name": "stdout",
     "output_type": "stream",
     "text": [
      "Your submission was successfully saved!\n"
     ]
    }
   ],
   "source": [
    "\n",
    "output = pd.DataFrame({'PassengerId': X_test.index, 'Survived': predictions})\n",
    "output.to_csv('my_sub.csv', index=False)\n",
    "print(\"Your submission was successfully saved!\")\n"
   ]
  }
 ],
 "metadata": {
  "kernelspec": {
   "display_name": "Python 3",
   "language": "python",
   "name": "python3"
  },
  "language_info": {
   "codemirror_mode": {
    "name": "ipython",
    "version": 3
   },
   "file_extension": ".py",
   "mimetype": "text/x-python",
   "name": "python",
   "nbconvert_exporter": "python",
   "pygments_lexer": "ipython3",
   "version": "3.7.9"
  },
  "papermill": {
   "default_parameters": {},
   "duration": 8.371757,
   "end_time": "2021-04-18T06:41:01.441886",
   "environment_variables": {},
   "exception": null,
   "input_path": "__notebook__.ipynb",
   "output_path": "__notebook__.ipynb",
   "parameters": {},
   "start_time": "2021-04-18T06:40:53.070129",
   "version": "2.3.2"
  }
 },
 "nbformat": 4,
 "nbformat_minor": 5
}
